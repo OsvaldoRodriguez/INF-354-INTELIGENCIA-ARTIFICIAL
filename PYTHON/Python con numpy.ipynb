{
 "cells": [
  {
   "cell_type": "markdown",
   "id": "cff82f0c",
   "metadata": {},
   "source": [
    "### Introducción a numpy\n",
    "\n",
    "convirtiendo una matriz a un array en numpy"
   ]
  },
  {
   "cell_type": "code",
   "execution_count": 23,
   "id": "e450d4b9",
   "metadata": {},
   "outputs": [
    {
     "name": "stdout",
     "output_type": "stream",
     "text": [
      "[[1, 1, 150, 24], [2, 1, 160, 23], [3, 2, 170, 25], [4, 2, 165, 23], [5, 1, 160, 22]]\n",
      "[[  1   1 150  24]\n",
      " [  2   1 160  23]\n",
      " [  3   2 170  25]\n",
      " [  4   2 165  23]\n",
      " [  5   1 160  22]]\n",
      "5\n",
      "(5, 4)\n",
      "algo parcial\n",
      "5\n",
      "procesando con numpy para la media\n",
      "47.2\n",
      "47.2\n",
      "[  3.    1.4 161.   23.4]\n",
      "[44.  46.5 50.  48.5 47. ]\n",
      "procesando con numpy para la mediana\n",
      "13.5\n",
      "13.5\n",
      "[  3.   1. 160.  23.]\n",
      "[12.5 12.5 14.  13.5 13.5]\n"
     ]
    }
   ],
   "source": [
    "import numpy as np\n",
    "\n",
    "datos = [[1, 1, 150, 24],\n",
    "         [2, 1, 160, 23],\n",
    "         [3, 2, 170, 25],\n",
    "         [4, 2, 165, 23],\n",
    "         [5, 1, 160, 22]\n",
    "        ]\n",
    "\n",
    "print(datos)\n",
    "datosnp = np.asarray(datos);\n",
    "print(datosnp)\n",
    "\n",
    "print(len(datosnp))\n",
    "print(datosnp.shape) # dimensiones del array\n",
    "\n",
    "print(\"algo parcial\")\n",
    "print(datosnp.shape[0])\n",
    "\n",
    "\n",
    "#halando la media\n",
    "print(\"procesando con numpy para la media\")\n",
    "print(np.mean(datosnp))\n",
    "print(np.mean(datosnp, axis = None))\n",
    "print(np.mean(datosnp, axis = 0))\n",
    "print(np.mean(datosnp, axis = 1))\n",
    "\n",
    "#hallando la mediana\n",
    "print(\"procesando con numpy para la mediana\")\n",
    "print(np.median(datosnp))\n",
    "print(np.median(datosnp, axis = None))\n",
    "print(np.median(datosnp, axis = 0))\n",
    "print(np.median(datosnp, axis = 1))\n",
    "\n"
   ]
  },
  {
   "cell_type": "markdown",
   "id": "c84cd58a",
   "metadata": {},
   "source": [
    "### Dar lectura a un archivo en python\n",
    "\n",
    "Para esto se utilizará panda"
   ]
  },
  {
   "cell_type": "code",
   "execution_count": 28,
   "id": "97c75bc1",
   "metadata": {},
   "outputs": [
    {
     "name": "stdout",
     "output_type": "stream",
     "text": [
      "  ID;EDAD;SEXO;ESTATURA\n",
      "0     1;20;femenino;150\n",
      "1    2;42;masculino;160\n",
      "2     3;53;femenino;170\n",
      "3    4;49;masculino;120\n",
      "4     5;19;femenino;140\n"
     ]
    }
   ],
   "source": [
    "import pandas as pd \n",
    "datitos = pd.read_csv(\"ejemplo.csv\");\n",
    "print(datitos)"
   ]
  }
 ],
 "metadata": {
  "kernelspec": {
   "display_name": "Python 3 (ipykernel)",
   "language": "python",
   "name": "python3"
  },
  "language_info": {
   "codemirror_mode": {
    "name": "ipython",
    "version": 3
   },
   "file_extension": ".py",
   "mimetype": "text/x-python",
   "name": "python",
   "nbconvert_exporter": "python",
   "pygments_lexer": "ipython3",
   "version": "3.9.12"
  }
 },
 "nbformat": 4,
 "nbformat_minor": 5
}
