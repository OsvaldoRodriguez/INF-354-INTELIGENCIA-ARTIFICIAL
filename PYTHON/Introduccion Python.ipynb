{
 "cells": [
  {
   "cell_type": "markdown",
   "id": "f4fcfe1b",
   "metadata": {},
   "source": [
    "## Introducción a Python\n",
    "\n",
    "Python es un lenguaje de tipado dinámico"
   ]
  },
  {
   "cell_type": "code",
   "execution_count": 9,
   "id": "33a93e3d",
   "metadata": {},
   "outputs": [
    {
     "name": "stdout",
     "output_type": "stream",
     "text": [
      "2 hola\n"
     ]
    }
   ],
   "source": [
    "a = 2\n",
    "b = \"hola\"\n",
    "print(a, b)\n"
   ]
  },
  {
   "cell_type": "markdown",
   "id": "2faa206b",
   "metadata": {},
   "source": [
    "### Creando listas en python\n",
    "\n",
    "las listas en python son dinamicas"
   ]
  },
  {
   "cell_type": "code",
   "execution_count": 7,
   "id": "b1939469",
   "metadata": {},
   "outputs": [
    {
     "name": "stdout",
     "output_type": "stream",
     "text": [
      "[1, 2, 3, 4, 5]\n",
      "[6, 7, 8, 9, 0]\n"
     ]
    }
   ],
   "source": [
    "lista1 = [1, 2, 3, 4, 5]\n",
    "lista2 = [6, 7, 8, 9, 0]\n",
    "print(lista1)\n",
    "print(lista2)"
   ]
  },
  {
   "cell_type": "markdown",
   "id": "d6b9515a",
   "metadata": {},
   "source": [
    "### Slicing en Python\n",
    "\n",
    "es una forma de recorrer listas\n",
    "lista[inicio : final)\n",
    "\n",
    "si inicio o fin es vacio, entonces inicio = 0 y fin es lista.length - 1 respectivamente\n"
   ]
  },
  {
   "cell_type": "code",
   "execution_count": 15,
   "id": "7a211883",
   "metadata": {},
   "outputs": [
    {
     "name": "stdout",
     "output_type": "stream",
     "text": [
      "[2]\n",
      "[4, 5]\n",
      "[1, 2, 3, 4, 5]\n"
     ]
    }
   ],
   "source": [
    "print(lista1[1 : 2])\n",
    "print(lista1[3 : ])\n",
    "print(lista1[ : ])"
   ]
  },
  {
   "cell_type": "markdown",
   "id": "08d669ba",
   "metadata": {},
   "source": [
    "### Creando listas utilizando range"
   ]
  },
  {
   "cell_type": "code",
   "execution_count": 16,
   "id": "306384e4",
   "metadata": {},
   "outputs": [
    {
     "name": "stdout",
     "output_type": "stream",
     "text": [
      "[0, 1, 2, 3, 4, 5, 6, 7, 8, 9]\n"
     ]
    }
   ],
   "source": [
    "lista3 = [i for i in range(10)]\n",
    "print(lista3)"
   ]
  },
  {
   "cell_type": "markdown",
   "id": "374f01e6",
   "metadata": {},
   "source": [
    "### Realizando la Criba de Eratostenes\n",
    "\n",
    "Es un método de primalidad, permite hallar números primos $\\leq$ N"
   ]
  },
  {
   "cell_type": "code",
   "execution_count": 11,
   "id": "b4cd92fe",
   "metadata": {},
   "outputs": [
    {
     "name": "stdout",
     "output_type": "stream",
     "text": [
      "hola mundo\n",
      "[2, 3, 5, 7, 11, 13, 17, 19, 23, 29, 31, 37, 41, 43, 47, 53, 59, 61, 67, 71, 73, 79, 83, 89, 97]\n"
     ]
    }
   ],
   "source": [
    "print(\"hola mundo\")\n",
    "\n",
    "N = 100\n",
    "primos = []\n",
    "sieve = [1] * N\n",
    "\n",
    "i = 2;\n",
    "while i * i < N:\n",
    "    if sieve[i] == 1:\n",
    "        for j in range(i + i, N, i):\n",
    "            sieve[j] = 0\n",
    "    i += 1\n",
    "    \n",
    "for i in range(2, N):\n",
    "    if sieve[i] == 1:\n",
    "        primos.append(i)\n",
    "print(primos)\n",
    "\n"
   ]
  },
  {
   "cell_type": "code",
   "execution_count": null,
   "id": "fd498c27",
   "metadata": {},
   "outputs": [],
   "source": []
  }
 ],
 "metadata": {
  "kernelspec": {
   "display_name": "Python 3 (ipykernel)",
   "language": "python",
   "name": "python3"
  },
  "language_info": {
   "codemirror_mode": {
    "name": "ipython",
    "version": 3
   },
   "file_extension": ".py",
   "mimetype": "text/x-python",
   "name": "python",
   "nbconvert_exporter": "python",
   "pygments_lexer": "ipython3",
   "version": "3.9.12"
  }
 },
 "nbformat": 4,
 "nbformat_minor": 5
}
